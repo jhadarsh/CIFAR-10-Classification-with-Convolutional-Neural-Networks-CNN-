{
 "cells": [
  {
   "cell_type": "code",
   "execution_count": 4,
   "id": "fab88a21-a91e-48ad-93e2-e89d26b6f266",
   "metadata": {},
   "outputs": [],
   "source": [
    "import numpy as np\n",
    "import pandas as pd\n",
    "import tensorflow as tf\n",
    "from tensorflow.keras import datasets , layers , models\n",
    "import matplotlib.pyplot as plt\n",
    "%matplotlib inline"
   ]
  },
  {
   "cell_type": "code",
   "execution_count": 7,
   "id": "df6019f4-b051-4830-a0b3-4974b0d0826d",
   "metadata": {},
   "outputs": [
    {
     "name": "stdout",
     "output_type": "stream",
     "text": [
      "Downloading data from https://www.cs.toronto.edu/~kriz/cifar-10-python.tar.gz\n",
      "\u001b[1m170498071/170498071\u001b[0m \u001b[32m━━━━━━━━━━━━━━━━━━━━\u001b[0m\u001b[37m\u001b[0m \u001b[1m33s\u001b[0m 0us/step \n"
     ]
    }
   ],
   "source": [
    "(X_train , y_train),(X_test , y_test) = datasets.cifar10.load_data()"
   ]
  },
  {
   "cell_type": "code",
   "execution_count": 8,
   "id": "15b86f44-60d4-4474-9858-4554eff35110",
   "metadata": {},
   "outputs": [
    {
     "data": {
      "text/plain": [
       "(50000, 32, 32, 3)"
      ]
     },
     "execution_count": 8,
     "metadata": {},
     "output_type": "execute_result"
    }
   ],
   "source": [
    "X_train.shape"
   ]
  },
  {
   "cell_type": "code",
   "execution_count": 9,
   "id": "77596a56-27f0-4af6-85db-8afe52d6819e",
   "metadata": {},
   "outputs": [
    {
     "data": {
      "text/plain": [
       "(10000, 32, 32, 3)"
      ]
     },
     "execution_count": 9,
     "metadata": {},
     "output_type": "execute_result"
    }
   ],
   "source": [
    "X_test.shape"
   ]
  },
  {
   "cell_type": "code",
   "execution_count": 17,
   "id": "6cd9bfa1-4239-4762-82f9-06312d4c3e84",
   "metadata": {},
   "outputs": [
    {
     "data": {
      "text/plain": [
       "(50000, 1)"
      ]
     },
     "execution_count": 17,
     "metadata": {},
     "output_type": "execute_result"
    }
   ],
   "source": [
    "y_train.shape"
   ]
  },
  {
   "cell_type": "code",
   "execution_count": 26,
   "id": "1ceef414-ef0f-4460-9a51-0dc5539c3af5",
   "metadata": {},
   "outputs": [
    {
     "data": {
      "text/plain": [
       "array([[6],\n",
       "       [9],\n",
       "       [9],\n",
       "       [4],\n",
       "       [1]], dtype=uint8)"
      ]
     },
     "execution_count": 26,
     "metadata": {},
     "output_type": "execute_result"
    }
   ],
   "source": [
    "y_train[:5]"
   ]
  },
  {
   "cell_type": "markdown",
   "id": "25781ca6-64a6-4b86-9278-218e99919c06",
   "metadata": {},
   "source": [
    "* convert into 1 D array *"
   ]
  },
  {
   "cell_type": "code",
   "execution_count": 27,
   "id": "eb99ff01-02e1-4f32-a2a7-b9b918e0e0e3",
   "metadata": {},
   "outputs": [
    {
     "data": {
      "text/plain": [
       "array([6, 9, 9, 4, 1], dtype=uint8)"
      ]
     },
     "execution_count": 27,
     "metadata": {},
     "output_type": "execute_result"
    }
   ],
   "source": [
    "y_train = y_train.reshape(-1,)\n",
    "y_train[:5]"
   ]
  },
  {
   "cell_type": "code",
   "execution_count": 28,
   "id": "5960e82d-6520-4fbf-a2c1-2f56e4c746f9",
   "metadata": {},
   "outputs": [],
   "source": [
    "classes = ['airplane' , 'automobiles' , 'bird' , 'cat' , 'deer' ,'dog' ,'frog' ,'horse','ship','truck']"
   ]
  },
  {
   "cell_type": "code",
   "execution_count": 29,
   "id": "b76d10c8-bd5e-4f53-9b0a-5c85dce78441",
   "metadata": {},
   "outputs": [
    {
     "data": {
      "text/plain": [
       "'cat'"
      ]
     },
     "execution_count": 29,
     "metadata": {},
     "output_type": "execute_result"
    }
   ],
   "source": [
    "classes[3]"
   ]
  },
  {
   "cell_type": "code",
   "execution_count": 30,
   "id": "ea884f77-8e95-4eb7-a6bc-968e4ed1f842",
   "metadata": {},
   "outputs": [],
   "source": [
    "def plot_sample(X , y ,index):\n",
    "        plt.figure(figsize = (10,1))\n",
    "        plt.imshow(X[index])\n",
    "        plt.xlabel(classes[y[index]])"
   ]
  },
  {
   "cell_type": "code",
   "execution_count": 32,
   "id": "c446be82-dccc-4ad7-a3ec-b8f656d5edc2",
   "metadata": {},
   "outputs": [
    {
     "data": {
      "image/png": "[encoded data removed]",
      "text/plain": [
       "<Figure size 1000x100 with 1 Axes>"
      ]
     },
     "metadata": {},
     "output_type": "display_data"
    }
   ],
   "source": [
    "plot_sample(X_train , y_train , 5)"
   ]
  },
  {
   "cell_type": "code",
   "execution_count": 33,
   "id": "dcd820b9-b1d3-4d5c-98bc-4fb176b061b0",
   "metadata": {},
   "outputs": [
    {
     "data": {
      "image/png": "[encoded data removed]",
      "text/plain": [
       "<Figure size 1000x100 with 1 Axes>"
      ]
     },
     "metadata": {},
     "output_type": "display_data"
    }
   ],
   "source": [
    "plot_sample(X_train , y_train , 100)"
   ]
  },
  {
   "cell_type": "code",
   "execution_count": 34,
   "id": "43cb7c10-6a14-40a6-aa3c-fac19bb09e96",
   "metadata": {},
   "outputs": [],
   "source": [
    "X_train = X_train /255\n",
    "X_test = X_test /255"
   ]
  },
  {
   "cell_type": "code",
   "execution_count": 38,
   "id": "244b012d-9d49-47eb-80d0-c36bcaad70c5",
   "metadata": {},
   "outputs": [
    {
     "name": "stderr",
     "output_type": "stream",
     "text": [
      "C:\\Users\\adars\\AppData\\Local\\Programs\\Python\\Python310\\lib\\site-packages\\keras\\src\\layers\\reshaping\\flatten.py:37: UserWarning: Do not pass an `input_shape`/`input_dim` argument to a layer. When using Sequential models, prefer using an `Input(shape)` object as the first layer in the model instead.\n",
      "  super().__init__(**kwargs)\n"
     ]
    },
    {
     "name": "stdout",
     "output_type": "stream",
     "text": [
      "Epoch 1/5\n",
      "\u001b[1m1563/1563\u001b[0m \u001b[32m━━━━━━━━━━━━━━━━━━━━\u001b[0m\u001b[37m\u001b[0m \u001b[1m48s\u001b[0m 30ms/step - accuracy: 0.3043 - loss: 1.9244\n",
      "Epoch 2/5\n",
      "\u001b[1m1563/1563\u001b[0m \u001b[32m━━━━━━━━━━━━━━━━━━━━\u001b[0m\u001b[37m\u001b[0m \u001b[1m46s\u001b[0m 30ms/step - accuracy: 0.4195 - loss: 1.6419\n",
      "Epoch 3/5\n",
      "\u001b[1m1563/1563\u001b[0m \u001b[32m━━━━━━━━━━━━━━━━━━━━\u001b[0m\u001b[37m\u001b[0m \u001b[1m47s\u001b[0m 30ms/step - accuracy: 0.4531 - loss: 1.5518\n",
      "Epoch 4/5\n",
      "\u001b[1m1563/1563\u001b[0m \u001b[32m━━━━━━━━━━━━━━━━━━━━\u001b[0m\u001b[37m\u001b[0m \u001b[1m46s\u001b[0m 29ms/step - accuracy: 0.4761 - loss: 1.4895\n",
      "Epoch 5/5\n",
      "\u001b[1m1563/1563\u001b[0m \u001b[32m━━━━━━━━━━━━━━━━━━━━\u001b[0m\u001b[37m\u001b[0m \u001b[1m46s\u001b[0m 29ms/step - accuracy: 0.4974 - loss: 1.4352\n"
     ]
    },
    {
     "data": {
      "text/plain": [
       "<keras.src.callbacks.history.History at 0x1f3bf72d480>"
      ]
     },
     "execution_count": 38,
     "metadata": {},
     "output_type": "execute_result"
    }
   ],
   "source": [
    "ann = models.Sequential([\n",
    "      layers.Flatten(input_shape = (32,32,3)),\n",
    "      layers.Dense(3000 ,activation = 'relu'),\n",
    "      layers.Dense(1000 ,activation = 'relu'),\n",
    "      layers.Dense(10 ,activation = 'sigmoid')\n",
    "])\n",
    "ann.compile(optimizer = 'SGD',\n",
    "            loss='sparse_categorical_crossentropy',\n",
    "            metrics = ['accuracy'])\n",
    "ann.fit(X_train , y_train, epochs = 5)"
   ]
  },
  {
   "cell_type": "code",
   "execution_count": 40,
   "id": "832b2e8c-c01d-4197-9a50-1c5ec30a77f4",
   "metadata": {},
   "outputs": [
    {
     "name": "stdout",
     "output_type": "stream",
     "text": [
      "\u001b[1m313/313\u001b[0m \u001b[32m━━━━━━━━━━━━━━━━━━━━\u001b[0m\u001b[37m\u001b[0m \u001b[1m3s\u001b[0m 8ms/step - accuracy: 0.4010 - loss: 1.7540 \n"
     ]
    },
    {
     "data": {
      "text/plain": [
       "[1.749991774559021, 0.4009000062942505]"
      ]
     },
     "execution_count": 40,
     "metadata": {},
     "output_type": "execute_result"
    }
   ],
   "source": [
    "ann.evaluate(X_test , y_test)"
   ]
  },
  {
   "cell_type": "code",
   "execution_count": 41,
   "id": "a7e83ac7-5595-4606-a6fb-ac7a55349f3f",
   "metadata": {},
   "outputs": [],
   "source": [
    "from sklearn.metrics import confusion_matrix , classification_report"
   ]
  },
  {
   "cell_type": "code",
   "execution_count": 42,
   "id": "58895834-1afc-4ae8-af79-69f5c3e8251a",
   "metadata": {},
   "outputs": [
    {
     "name": "stdout",
     "output_type": "stream",
     "text": [
      "\u001b[1m313/313\u001b[0m \u001b[32m━━━━━━━━━━━━━━━━━━━━\u001b[0m\u001b[37m\u001b[0m \u001b[1m2s\u001b[0m 7ms/step\n",
      "Classification report : \n",
      "               precision    recall  f1-score   support\n",
      "\n",
      "           0       0.38      0.65      0.48      1000\n",
      "           1       0.31      0.87      0.45      1000\n",
      "           2       0.45      0.07      0.12      1000\n",
      "           3       0.47      0.07      0.11      1000\n",
      "           4       0.36      0.44      0.40      1000\n",
      "           5       0.44      0.26      0.33      1000\n",
      "           6       0.72      0.20      0.31      1000\n",
      "           7       0.43      0.58      0.49      1000\n",
      "           8       0.49      0.64      0.56      1000\n",
      "           9       0.53      0.24      0.33      1000\n",
      "\n",
      "    accuracy                           0.40     10000\n",
      "   macro avg       0.46      0.40      0.36     10000\n",
      "weighted avg       0.46      0.40      0.36     10000\n",
      "\n"
     ]
    }
   ],
   "source": [
    "y_pred = ann.predict(X_test)\n",
    "y_pred_classes = [np.argmax(element) for element in y_pred]\n",
    "print(\"Classification report : \\n\" , classification_report(y_test ,  y_pred_classes))"
   ]
  },
  {
   "cell_type": "markdown",
   "id": "b960f954-85e8-4438-abf2-1194409c85ab",
   "metadata": {},
   "source": [
    "# By the help of CNN we can improve our F! score "
   ]
  },
  {
   "cell_type": "code",
   "execution_count": 46,
   "id": "f53210c7-1a81-4deb-8c90-e3f54c47b64c",
   "metadata": {},
   "outputs": [
    {
     "name": "stdout",
     "output_type": "stream",
     "text": [
      "Epoch 1/10\n",
      "\u001b[1m1563/1563\u001b[0m \u001b[32m━━━━━━━━━━━━━━━━━━━━\u001b[0m\u001b[37m\u001b[0m \u001b[1m15s\u001b[0m 9ms/step - accuracy: 0.3852 - loss: 1.6908 \n",
      "Epoch 2/10\n",
      "\u001b[1m1563/1563\u001b[0m \u001b[32m━━━━━━━━━━━━━━━━━━━━\u001b[0m\u001b[37m\u001b[0m \u001b[1m13s\u001b[0m 9ms/step - accuracy: 0.6037 - loss: 1.1223 \n",
      "Epoch 3/10\n",
      "\u001b[1m1563/1563\u001b[0m \u001b[32m━━━━━━━━━━━━━━━━━━━━\u001b[0m\u001b[37m\u001b[0m \u001b[1m13s\u001b[0m 9ms/step - accuracy: 0.6604 - loss: 0.9700\n",
      "Epoch 4/10\n",
      "\u001b[1m1563/1563\u001b[0m \u001b[32m━━━━━━━━━━━━━━━━━━━━\u001b[0m\u001b[37m\u001b[0m \u001b[1m14s\u001b[0m 9ms/step - accuracy: 0.6973 - loss: 0.8730 \n",
      "Epoch 5/10\n",
      "\u001b[1m1563/1563\u001b[0m \u001b[32m━━━━━━━━━━━━━━━━━━━━\u001b[0m\u001b[37m\u001b[0m \u001b[1m14s\u001b[0m 9ms/step - accuracy: 0.7202 - loss: 0.8010\n",
      "Epoch 6/10\n",
      "\u001b[1m1563/1563\u001b[0m \u001b[32m━━━━━━━━━━━━━━━━━━━━\u001b[0m\u001b[37m\u001b[0m \u001b[1m14s\u001b[0m 9ms/step - accuracy: 0.7394 - loss: 0.7491\n",
      "Epoch 7/10\n",
      "\u001b[1m1563/1563\u001b[0m \u001b[32m━━━━━━━━━━━━━━━━━━━━\u001b[0m\u001b[37m\u001b[0m \u001b[1m14s\u001b[0m 9ms/step - accuracy: 0.7651 - loss: 0.6812\n",
      "Epoch 8/10\n",
      "\u001b[1m1563/1563\u001b[0m \u001b[32m━━━━━━━━━━━━━━━━━━━━\u001b[0m\u001b[37m\u001b[0m \u001b[1m14s\u001b[0m 9ms/step - accuracy: 0.7782 - loss: 0.6419 \n",
      "Epoch 9/10\n",
      "\u001b[1m1563/1563\u001b[0m \u001b[32m━━━━━━━━━━━━━━━━━━━━\u001b[0m\u001b[37m\u001b[0m \u001b[1m14s\u001b[0m 9ms/step - accuracy: 0.7913 - loss: 0.5970\n",
      "Epoch 10/10\n",
      "\u001b[1m1563/1563\u001b[0m \u001b[32m━━━━━━━━━━━━━━━━━━━━\u001b[0m\u001b[37m\u001b[0m \u001b[1m14s\u001b[0m 9ms/step - accuracy: 0.8091 - loss: 0.5547\n"
     ]
    },
    {
     "data": {
      "text/plain": [
       "<keras.src.callbacks.history.History at 0x1f3d90027d0>"
      ]
     },
     "execution_count": 46,
     "metadata": {},
     "output_type": "execute_result"
    }
   ],
   "source": [
    "cnn = models.Sequential([\n",
    "     #cnn\n",
    "        layers.Conv2D(filters = 32 , kernel_size = (3,3), activation = 'relu', input_shape = (32,32,3)),\n",
    "        layers.MaxPooling2D((2,2)),\n",
    "        layers.Conv2D(filters = 64 , kernel_size = (3,3), activation = 'relu' ),\n",
    "        layers.MaxPooling2D((2,2)),\n",
    "    \n",
    "\n",
    "      #dense\n",
    "          layers.Flatten(),\n",
    "          layers.Dense(64 ,activation = 'relu'),\n",
    "          layers.Dense(10 ,activation = 'softmax')\n",
    "        \n",
    "])\n",
    "cnn.compile(optimizer = 'adam',\n",
    "            loss='sparse_categorical_crossentropy',\n",
    "            metrics = ['accuracy'])\n",
    "cnn.fit(X_train , y_train, epochs = 10)"
   ]
  },
  {
   "cell_type": "code",
   "execution_count": 47,
   "id": "c1aa140c-09bb-4a37-87a7-8d21a6579392",
   "metadata": {},
   "outputs": [
    {
     "name": "stdout",
     "output_type": "stream",
     "text": [
      "\u001b[1m313/313\u001b[0m \u001b[32m━━━━━━━━━━━━━━━━━━━━\u001b[0m\u001b[37m\u001b[0m \u001b[1m2s\u001b[0m 5ms/step - accuracy: 0.7059 - loss: 0.9082\n"
     ]
    },
    {
     "data": {
      "text/plain": [
       "[0.9218543171882629, 0.7045000195503235]"
      ]
     },
     "execution_count": 47,
     "metadata": {},
     "output_type": "execute_result"
    }
   ],
   "source": [
    "cnn.evaluate(X_test , y_test)"
   ]
  },
  {
   "cell_type": "code",
   "execution_count": 48,
   "id": "eafec940-236d-4853-8bdd-5d6ce6014cdb",
   "metadata": {},
   "outputs": [
    {
     "data": {
      "text/plain": [
       "array([[3],\n",
       "       [8],\n",
       "       [8],\n",
       "       [0],\n",
       "       [6]], dtype=uint8)"
      ]
     },
     "execution_count": 48,
     "metadata": {},
     "output_type": "execute_result"
    }
   ],
   "source": [
    "y_test[:5]"
   ]
  },
  {
   "cell_type": "code",
   "execution_count": 49,
   "id": "e5b46009-a113-4c6e-b7f3-2c7a1e924c60",
   "metadata": {},
   "outputs": [
    {
     "data": {
      "text/plain": [
       "array([3, 8, 8, 0, 6], dtype=uint8)"
      ]
     },
     "execution_count": 49,
     "metadata": {},
     "output_type": "execute_result"
    }
   ],
   "source": [
    "y_test= y_test.reshape(-1,)\n",
    "y_test[:5]"
   ]
  },
  {
   "cell_type": "code",
   "execution_count": 50,
   "id": "ffc2db42-bb1f-4404-9d15-85b8272f5020",
   "metadata": {},
   "outputs": [
    {
     "data": {
      "image/png": "[encoded data removed]",
      "text/plain": [
       "<Figure size 1000x100 with 1 Axes>"
      ]
     },
     "metadata": {},
     "output_type": "display_data"
    }
   ],
   "source": [
    "plot_sample(X_test , y_test , 100)"
   ]
  },
  {
   "cell_type": "code",
   "execution_count": 52,
   "id": "ec21edf8-4eef-41cf-99aa-8538832c860e",
   "metadata": {},
   "outputs": [
    {
     "name": "stdout",
     "output_type": "stream",
     "text": [
      "\u001b[1m313/313\u001b[0m \u001b[32m━━━━━━━━━━━━━━━━━━━━\u001b[0m\u001b[37m\u001b[0m \u001b[1m2s\u001b[0m 5ms/step\n"
     ]
    },
    {
     "data": {
      "text/plain": [
       "array([[8.77134808e-05, 3.79845665e-06, 3.91475204e-03, 9.76361275e-01,\n",
       "        3.51962262e-05, 5.53483749e-03, 2.34048511e-03, 1.29158361e-04,\n",
       "        1.15823261e-02, 1.04879546e-05],\n",
       "       [2.51881225e-04, 2.20346861e-04, 6.69912410e-08, 1.38881440e-08,\n",
       "        2.52299737e-10, 6.37453290e-09, 4.41130743e-10, 5.44360401e-13,\n",
       "        9.99526620e-01, 1.04000128e-06],\n",
       "       [1.86740294e-01, 2.98032854e-02, 2.74095801e-03, 1.77211140e-03,\n",
       "        3.95295589e-04, 1.65004353e-03, 5.89302472e-05, 1.20667904e-03,\n",
       "        7.72466540e-01, 3.16586974e-03],\n",
       "       [9.76658285e-01, 6.92135382e-06, 3.04260757e-04, 3.23613858e-05,\n",
       "        3.42161320e-06, 3.34121364e-06, 7.04650620e-06, 2.93402309e-07,\n",
       "        2.29822788e-02, 1.78975722e-06],\n",
       "       [5.35527079e-06, 2.71150693e-05, 9.57778562e-03, 4.02099341e-02,\n",
       "        2.46053472e-01, 1.05511711e-03, 7.03049242e-01, 3.51695940e-06,\n",
       "        1.83212687e-05, 1.13491495e-07]], dtype=float32)"
      ]
     },
     "execution_count": 52,
     "metadata": {},
     "output_type": "execute_result"
    }
   ],
   "source": [
    "y_pred = cnn.predict(X_test)\n",
    "y_pred[:5]"
   ]
  },
  {
   "cell_type": "code",
   "execution_count": 55,
   "id": "d2bd7493-aa81-4abf-8ff3-e7b8ed637bcf",
   "metadata": {},
   "outputs": [
    {
     "data": {
      "text/plain": [
       "[np.int64(3),\n",
       " np.int64(8),\n",
       " np.int64(8),\n",
       " np.int64(0),\n",
       " np.int64(6),\n",
       " np.int64(6),\n",
       " np.int64(1),\n",
       " np.int64(4),\n",
       " np.int64(3),\n",
       " np.int64(1),\n",
       " np.int64(0),\n",
       " np.int64(9),\n",
       " np.int64(5),\n",
       " np.int64(7),\n",
       " np.int64(9),\n",
       " np.int64(6),\n",
       " np.int64(5),\n",
       " np.int64(7),\n",
       " np.int64(8),\n",
       " np.int64(6)]"
      ]
     },
     "execution_count": 55,
     "metadata": {},
     "output_type": "execute_result"
    }
   ],
   "source": [
    "y_classes = [np.argmax(element) for element in y_pred]\n",
    "y_classes[:20]"
   ]
  },
  {
   "cell_type": "code",
   "execution_count": 56,
   "id": "5d4b474b-e770-4c3f-b15f-ee3696a4dee5",
   "metadata": {},
   "outputs": [
    {
     "data": {
      "text/plain": [
       "array([3, 8, 8, 0, 6, 6, 1, 6, 3, 1, 0, 9, 5, 7, 9, 8, 5, 7, 8, 6],\n",
       "      dtype=uint8)"
      ]
     },
     "execution_count": 56,
     "metadata": {},
     "output_type": "execute_result"
    }
   ],
   "source": [
    "y_test[:20]"
   ]
  },
  {
   "cell_type": "code",
   "execution_count": 76,
   "id": "5bcd5c6c-985d-4850-bff5-0b221abaa776",
   "metadata": {},
   "outputs": [
    {
     "data": {
      "image/png": "[encoded data removed]",
      "text/plain": [
       "<Figure size 1000x100 with 1 Axes>"
      ]
     },
     "metadata": {},
     "output_type": "display_data"
    }
   ],
   "source": [
    "plot_sample(X_test , y_test , 8)"
   ]
  },
  {
   "cell_type": "code",
   "execution_count": 77,
   "id": "b61f4d10-50ad-4bd7-a0fc-af0c7feb0663",
   "metadata": {},
   "outputs": [
    {
     "data": {
      "text/plain": [
       "'cat'"
      ]
     },
     "execution_count": 77,
     "metadata": {},
     "output_type": "execute_result"
    }
   ],
   "source": [
    "classes[y_classes[8]]\n",
    "#15 "
   ]
  },
  {
   "cell_type": "markdown",
   "id": "dd53d6eb-0262-4dac-aae3-0bb00d28d0ac",
   "metadata": {},
   "source": [
    "# Classification Report "
   ]
  },
  {
   "cell_type": "code",
   "execution_count": 70,
   "id": "6149a9e2-fc70-4df4-add7-1004bdf25635",
   "metadata": {},
   "outputs": [
    {
     "name": "stdout",
     "output_type": "stream",
     "text": [
      "Classification report : \n",
      "               precision    recall  f1-score   support\n",
      "\n",
      "           0       0.73      0.79      0.76      1000\n",
      "           1       0.86      0.77      0.81      1000\n",
      "           2       0.63      0.57      0.60      1000\n",
      "           3       0.51      0.49      0.50      1000\n",
      "           4       0.62      0.72      0.66      1000\n",
      "           5       0.59      0.64      0.62      1000\n",
      "           6       0.81      0.75      0.78      1000\n",
      "           7       0.73      0.73      0.73      1000\n",
      "           8       0.78      0.82      0.80      1000\n",
      "           9       0.82      0.75      0.78      1000\n",
      "\n",
      "    accuracy                           0.70     10000\n",
      "   macro avg       0.71      0.70      0.71     10000\n",
      "weighted avg       0.71      0.70      0.71     10000\n",
      "\n"
     ]
    }
   ],
   "source": [
    "print(\"Classification report : \\n\" , classification_report(y_test ,  y_classes))"
   ]
  },
  {
   "cell_type": "code",
   "execution_count": null,
   "id": "d1b382b3-c525-4f74-9da9-812a29a1b870",
   "metadata": {},
   "outputs": [],
   "source": []
  }
 ],
 "metadata": {
  "kernelspec": {
   "display_name": "Python 3 (ipykernel)",
   "language": "python",
   "name": "python3"
  },
  "language_info": {
   "codemirror_mode": {
    "name": "ipython",
    "version": 3
   },
   "file_extension": ".py",
   "mimetype": "text/x-python",
   "name": "python",
   "nbconvert_exporter": "python",
   "pygments_lexer": "ipython3",
   "version": "3.10.11"
  }
 },
 "nbformat": 4,
 "nbformat_minor": 5
}
